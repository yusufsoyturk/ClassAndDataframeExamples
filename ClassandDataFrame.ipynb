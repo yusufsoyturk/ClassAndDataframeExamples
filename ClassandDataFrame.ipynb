{
 "cells": [
  {
   "cell_type": "code",
   "execution_count": 2,
   "id": "70c65449",
   "metadata": {},
   "outputs": [
    {
     "name": "stdout",
     "output_type": "stream",
     "text": [
      "Kategoriler:\n",
      "1. Gıda\n",
      "2. Temizlik\n",
      "3. Meyve/Sebze\n",
      "Lütfen bir kategori seçin (1-3): 1\n",
      "Gıda Kategorisi Ürünleri:\n",
      "Ekmek: Stok - 20, Fiyat - 2.5 TL\n",
      "Süt: Stok - 30, Fiyat - 3.0 TL\n",
      "Yumurta: Stok - 50, Fiyat - 0.25 TL\n",
      "Peynir: Stok - 15, Fiyat - 5.0 TL\n",
      "Makarna: Stok - 40, Fiyat - 1.0 TL\n",
      "Lütfen bir ürün seçin: Ekmek\n",
      "Lütfen miktar girin: 2\n",
      "Ekmek sepete eklendi.\n",
      "Alışverişi tamamlamak için 'E' tuşuna basın. Devam etmek için 'H' tuşuna basın: e\n",
      "\n",
      "Sepetinizdeki Ürünler:\n",
      "Ekmek - 2 adet\n",
      "Toplam Tutar: 5.00 TL\n"
     ]
    }
   ],
   "source": [
    "class MarketProgram:\n",
    "    def __init__(self):\n",
    "        self.categories = [\"Gıda\", \"Temizlik\", \"Meyve/Sebze\"]\n",
    "        self.products = {\n",
    "            \"Gıda\": {\"Ekmek\": {\"Stok\": 20, \"Fiyat\": 2.5},\n",
    "                    \"Süt\": {\"Stok\": 30, \"Fiyat\": 3.0},\n",
    "                    \"Yumurta\": {\"Stok\": 50, \"Fiyat\": 0.25},\n",
    "                    \"Peynir\": {\"Stok\": 15, \"Fiyat\": 5.0},\n",
    "                    \"Makarna\": {\"Stok\": 40, \"Fiyat\": 1.0}},\n",
    "            \"Temizlik\": {\"Sabun\": {\"Stok\": 25, \"Fiyat\": 1.5},\n",
    "                         \"Deterjan\": {\"Stok\": 20, \"Fiyat\": 4.0},\n",
    "                         \"Tuvalet Kağıdı\": {\"Stok\": 30, \"Fiyat\": 2.0},\n",
    "                         \"Temizlik Bezi\": {\"Stok\": 15, \"Fiyat\": 3.5},\n",
    "                         \"Cam Temizleyici\": {\"Stok\": 10, \"Fiyat\": 6.0}},\n",
    "            \"Meyve/Sebze\": {\"Elma\": {\"Stok\": 35, \"Fiyat\": 2.0},\n",
    "                            \"Domates\": {\"Stok\": 40, \"Fiyat\": 1.5},\n",
    "                            \"Muz\": {\"Stok\": 30, \"Fiyat\": 3.0},\n",
    "                            \"Salatalık\": {\"Stok\": 25, \"Fiyat\": 2.5},\n",
    "                            \"Portakal\": {\"Stok\": 20, \"Fiyat\": 2.0}}\n",
    "        }\n",
    "        self.cart = []\n",
    "\n",
    "    def show_categories(self):\n",
    "        print(\"Kategoriler:\")\n",
    "        for index, category in enumerate(self.categories, 1):\n",
    "            print(f\"{index}. {category}\")\n",
    "\n",
    "    def show_products(self, category):\n",
    "        print(f\"{category} Kategorisi Ürünleri:\")\n",
    "        for product in self.products[category]:\n",
    "            stock = self.products[category][product][\"Stok\"]\n",
    "            price = self.products[category][product][\"Fiyat\"]\n",
    "            print(f\"{product}: Stok - {stock}, Fiyat - {price} TL\")\n",
    "\n",
    "    def add_to_cart(self, category, product, quantity):\n",
    "        if self.products[category][product][\"Stok\"] >= quantity:\n",
    "            self.cart.append({\"Kategori\": category, \"Ürün\": product, \"Adet\": quantity})\n",
    "            self.products[category][product][\"Stok\"] -= quantity\n",
    "            print(f\"{product} sepete eklendi.\")\n",
    "        else:\n",
    "            print(\"Stok yetersiz. Lütfen geçerli bir miktar girin.\")\n",
    "\n",
    "    def calculate_total_price(self):\n",
    "        total_price = 0\n",
    "        for item in self.cart:\n",
    "            category = item[\"Kategori\"]\n",
    "            product = item[\"Ürün\"]\n",
    "            quantity = item[\"Adet\"]\n",
    "            price_per_unit = self.products[category][product][\"Fiyat\"]\n",
    "            total_price += quantity * price_per_unit\n",
    "        return total_price\n",
    "\n",
    "    def checkout(self):\n",
    "        total_price = self.calculate_total_price()\n",
    "        print(\"\\nSepetinizdeki Ürünler:\")\n",
    "        for item in self.cart:\n",
    "            print(f\"{item['Ürün']} - {item['Adet']} adet\")\n",
    "        print(f\"Toplam Tutar: {total_price:.2f} TL\")\n",
    "        self.cart = []  # Sepeti sıfırla\n",
    "\n",
    "# Örnek kullanım\n",
    "market = MarketProgram()\n",
    "\n",
    "while True:\n",
    "    market.show_categories()\n",
    "    category_choice = int(input(\"Lütfen bir kategori seçin (1-3): \"))\n",
    "    if 1 <= category_choice <= 3:\n",
    "        selected_category = market.categories[category_choice - 1]\n",
    "        market.show_products(selected_category)\n",
    "\n",
    "        product_choice = input(\"Lütfen bir ürün seçin: \")\n",
    "        quantity = int(input(\"Lütfen miktar girin: \"))\n",
    "\n",
    "        market.add_to_cart(selected_category, product_choice, quantity)\n",
    "\n",
    "        checkout_choice = input(\"Alışverişi tamamlamak için 'E' tuşuna basın. Devam etmek için 'H' tuşuna basın: \")\n",
    "        if checkout_choice.upper() == 'E':\n",
    "            market.checkout()\n",
    "            break\n",
    "    else:\n",
    "        print(\"Geçersiz kategori seçimi. Lütfen tekrar deneyin.\")\n",
    "\n",
    "        "
   ]
  },
  {
   "cell_type": "code",
   "execution_count": 3,
   "id": "79b03f5a",
   "metadata": {},
   "outputs": [
    {
     "data": {
      "text/plain": [
       "array([[ 1,  2,  3,  4],\n",
       "       [ 5,  6,  7,  8],\n",
       "       [ 9, 10, 11, 12],\n",
       "       [13, 14, 15, 16]])"
      ]
     },
     "execution_count": 3,
     "metadata": {},
     "output_type": "execute_result"
    }
   ],
   "source": [
    "import numpy as np \n",
    "mtrs =np.arange(1,17).reshape(4,4)\n",
    "mtrs"
   ]
  },
  {
   "cell_type": "code",
   "execution_count": 4,
   "id": "ca1b1e7f",
   "metadata": {},
   "outputs": [
    {
     "data": {
      "text/html": [
       "<div>\n",
       "<style scoped>\n",
       "    .dataframe tbody tr th:only-of-type {\n",
       "        vertical-align: middle;\n",
       "    }\n",
       "\n",
       "    .dataframe tbody tr th {\n",
       "        vertical-align: top;\n",
       "    }\n",
       "\n",
       "    .dataframe thead th {\n",
       "        text-align: right;\n",
       "    }\n",
       "</style>\n",
       "<table border=\"1\" class=\"dataframe\">\n",
       "  <thead>\n",
       "    <tr style=\"text-align: right;\">\n",
       "      <th></th>\n",
       "      <th>sütun1</th>\n",
       "      <th>sütun2</th>\n",
       "      <th>sütun3</th>\n",
       "    </tr>\n",
       "  </thead>\n",
       "  <tbody>\n",
       "    <tr>\n",
       "      <th>satır1</th>\n",
       "      <td>49</td>\n",
       "      <td>13</td>\n",
       "      <td>90</td>\n",
       "    </tr>\n",
       "    <tr>\n",
       "      <th>satır2</th>\n",
       "      <td>39</td>\n",
       "      <td>2</td>\n",
       "      <td>54</td>\n",
       "    </tr>\n",
       "    <tr>\n",
       "      <th>satır3</th>\n",
       "      <td>83</td>\n",
       "      <td>35</td>\n",
       "      <td>78</td>\n",
       "    </tr>\n",
       "    <tr>\n",
       "      <th>satır4</th>\n",
       "      <td>93</td>\n",
       "      <td>16</td>\n",
       "      <td>87</td>\n",
       "    </tr>\n",
       "  </tbody>\n",
       "</table>\n",
       "</div>"
      ],
      "text/plain": [
       "        sütun1  sütun2  sütun3\n",
       "satır1      49      13      90\n",
       "satır2      39       2      54\n",
       "satır3      83      35      78\n",
       "satır4      93      16      87"
      ]
     },
     "execution_count": 4,
     "metadata": {},
     "output_type": "execute_result"
    }
   ],
   "source": [
    "import pandas as pd \n",
    "df= pd.DataFrame(np.random.randint(0,100,(4,3)),columns=[\"sütun1\",\"sütun2\",\"sütun3\"],index=[\"satır1\",\"satır2\",\"satır3\",\"satır4\"])\n",
    "df"
   ]
  },
  {
   "cell_type": "code",
   "execution_count": 13,
   "id": "ab3b9bca",
   "metadata": {},
   "outputs": [
    {
     "name": "stdout",
     "output_type": "stream",
     "text": [
      "DataFrame:\n",
      "    Col1  Col2  Col3  Col4\n",
      "0  50.0  12.0   NaN  16.0\n",
      "1   NaN   NaN  80.0  70.0\n",
      "2  93.0   NaN  16.0   NaN\n",
      "\n",
      "Eksiksiz DataFrame:\n",
      "    Col1  Col2  Col3  Col4\n",
      "0  50.0  12.0  48.0  16.0\n",
      "1  71.5  12.0  80.0  70.0\n",
      "2  93.0  12.0  16.0  43.0\n"
     ]
    }
   ],
   "source": [
    "import numpy as np\n",
    "import pandas as pd\n",
    "\n",
    "arr = np.array([[50, 12, np.nan, 16],\n",
    "                [np.nan, np.nan, 80, 70],\n",
    "                [93, np.nan, 16, np.nan]])\n",
    "\n",
    "df = pd.DataFrame(arr, columns=['Col1', 'Col2', 'Col3', 'Col4'])\n",
    "\n",
    "df_filled = df.fillna(df.mean())\n",
    "\n",
    "print(\"DataFrame:\\n\", df)\n",
    "print(\"\\nEksiksiz DataFrame:\\n\", df_filled)\n"
   ]
  },
  {
   "cell_type": "code",
   "execution_count": 44,
   "id": "83fa0f21",
   "metadata": {},
   "outputs": [
    {
     "name": "stdout",
     "output_type": "stream",
     "text": [
      "                                    Beverage  Calories   Total_Fat  \\\n",
      "0                              Brewed Coffee       3.0         0.1   \n",
      "1                              Brewed Coffee       4.0         0.1   \n",
      "2                              Brewed Coffee       5.0         0.1   \n",
      "3                              Brewed Coffee       5.0         0.1   \n",
      "4                                Caffè Latte      70.0         0.1   \n",
      "5                                Caffè Latte     100.0         3.5   \n",
      "6                                Caffè Latte      70.0         2.5   \n",
      "7                                Caffè Latte     100.0         0.2   \n",
      "8                                Caffè Latte     150.0         6.0   \n",
      "9                                Caffè Latte     110.0         4.5   \n",
      "10                               Caffè Latte     130.0         0.3   \n",
      "11                               Caffè Latte     190.0         7.0   \n",
      "12                               Caffè Latte     150.0         5.0   \n",
      "13                               Caffè Latte       NaN         0.4   \n",
      "14                               Caffè Latte     240.0         NaN   \n",
      "15                               Caffè Latte     190.0         7.0   \n",
      "16       Caffè Mocha (Without Whipped Cream)     110.0         1.5   \n",
      "17       Caffè Mocha (Without Whipped Cream)     130.0         4.0   \n",
      "18       Caffè Mocha (Without Whipped Cream)     110.0         NaN   \n",
      "19       Caffè Mocha (Without Whipped Cream)     170.0         2.0   \n",
      "20       Caffè Mocha (Without Whipped Cream)       NaN         6.0   \n",
      "21       Caffè Mocha (Without Whipped Cream)     180.0         5.0   \n",
      "22       Caffè Mocha (Without Whipped Cream)       NaN         2.5   \n",
      "23       Caffè Mocha (Without Whipped Cream)     260.0         8.0   \n",
      "24       Caffè Mocha (Without Whipped Cream)     230.0         NaN   \n",
      "25       Caffè Mocha (Without Whipped Cream)     280.0         3.0   \n",
      "26       Caffè Mocha (Without Whipped Cream)     340.0        11.0   \n",
      "27       Caffè Mocha (Without Whipped Cream)     290.0         9.0   \n",
      "28  Vanilla Latte (Or Other Flavoured Latte)     100.0         0.1   \n",
      "29  Vanilla Latte (Or Other Flavoured Latte)     130.0         NaN   \n",
      "30  Vanilla Latte (Or Other Flavoured Latte)     110.0         2.5   \n",
      "31  Vanilla Latte (Or Other Flavoured Latte)       NaN         0.2   \n",
      "32  Vanilla Latte (Or Other Flavoured Latte)     200.0         5.0   \n",
      "33  Vanilla Latte (Or Other Flavoured Latte)     160.0         4.0   \n",
      "34  Vanilla Latte (Or Other Flavoured Latte)     200.0         NaN   \n",
      "35  Vanilla Latte (Or Other Flavoured Latte)     250.0         6.0   \n",
      "36  Vanilla Latte (Or Other Flavoured Latte)     210.0         5.0   \n",
      "37  Vanilla Latte (Or Other Flavoured Latte)     250.0         NaN   \n",
      "38  Vanilla Latte (Or Other Flavoured Latte)     320.0         9.0   \n",
      "39  Vanilla Latte (Or Other Flavoured Latte)       NaN         NaN   \n",
      "40                           Caffè Americano       5.0         0.0   \n",
      "41                           Caffè Americano      10.0         0.0   \n",
      "42                           Caffè Americano      15.0         NaN   \n",
      "43                           Caffè Americano      25.0         0.0   \n",
      "44                                Cappuccino      50.0         0.1   \n",
      "45                                Cappuccino      80.0         NaN   \n",
      "46                                Cappuccino      50.0         1.5   \n",
      "47                                Cappuccino      60.0         NaN   \n",
      "48                                Cappuccino      90.0         3.5   \n",
      "\n",
      "    Trans_Fat   Saturated_Fat   Sodium   Total_Carbohydrates   Cholesterol  \\\n",
      "0          NaN            0.0      0.0                    5.0          0.0   \n",
      "1          NaN            0.0      0.0                   10.0          0.0   \n",
      "2          0.0            0.0      0.0                   10.0          0.0   \n",
      "3          0.0            0.0      NaN                   10.0          0.0   \n",
      "4          0.1            0.0      5.0                    NaN         10.0   \n",
      "5          2.0            0.1     15.0                   85.0          NaN   \n",
      "6          0.4            0.0      0.0                   65.0          NaN   \n",
      "7          NaN            0.0      5.0                  120.0         15.0   \n",
      "8          3.0            0.2      NaN                  135.0         15.0   \n",
      "9          0.5            0.0      0.0                    NaN         10.0   \n",
      "10         NaN            0.0      5.0                  150.0          NaN   \n",
      "11         3.5            0.2     30.0                    NaN         19.0   \n",
      "12         0.5            0.0      0.0                  130.0         13.0   \n",
      "13         0.3            0.0     10.0                  190.0         25.0   \n",
      "14         4.5            0.3      NaN                  220.0         24.0   \n",
      "15         1.0            0.0      0.0                    NaN         16.0   \n",
      "16         NaN            NaN      5.0                   60.0          NaN   \n",
      "17         2.0            0.1     10.0                   70.0         21.0   \n",
      "18         1.0            0.0      0.0                   55.0         19.0   \n",
      "19         1.0            0.0      NaN                  100.0         32.0   \n",
      "20         3.5            0.1     20.0                    NaN          NaN   \n",
      "21         1.5            0.0      0.0                   85.0         28.0   \n",
      "22         NaN            0.0      5.0                  125.0         43.0   \n",
      "23         4.5            0.2     25.0                  140.0         42.0   \n",
      "24         2.0            0.0      0.0                  105.0         37.0   \n",
      "25         2.0            0.0     10.0                    NaN          NaN   \n",
      "26         6.0            NaN      NaN                  180.0         53.0   \n",
      "27         2.5            0.0      0.0                  140.0         47.0   \n",
      "28         NaN            0.0      5.0                   70.0         19.0   \n",
      "29         1.5            0.1     15.0                   80.0          NaN   \n",
      "30         0.3            0.0      NaN                    NaN         16.0   \n",
      "31         0.1            0.0      NaN                    NaN         28.0   \n",
      "32         2.5            NaN     20.0                  125.0         28.0   \n",
      "33         0.5            0.0      0.0                   95.0         23.0   \n",
      "34         NaN            0.0      5.0                  140.0          NaN   \n",
      "35         3.5            0.2     25.0                  150.0         37.0   \n",
      "36         0.5            0.0      0.0                  120.0          NaN   \n",
      "37         0.2            NaN     10.0                  180.0         47.0   \n",
      "38         4.5            0.3     35.0                  200.0         46.0   \n",
      "39         1.0            0.0      0.0                  160.0         39.0   \n",
      "40         NaN            0.0      0.0                    5.0          1.0   \n",
      "41         0.0            0.0      0.0                   10.0          NaN   \n",
      "42         0.0            0.0      0.0                   15.0          3.0   \n",
      "43         0.0            NaN      0.0                   15.0          4.0   \n",
      "44         0.1            0.0      5.0                   60.0          8.0   \n",
      "45         1.5            0.1     10.0                   70.0          8.0   \n",
      "46         NaN            0.0      0.0                   40.0          4.0   \n",
      "47         0.1            0.0      5.0                   70.0          9.0   \n",
      "48         NaN            0.1     15.0                   80.0          9.0   \n",
      "\n",
      "     Dietary_Fibre   Sugars   Protein  \n",
      "0              0.0      0.0       0.3  \n",
      "1              0.0      0.0       0.5  \n",
      "2              0.0      0.0       1.0  \n",
      "3              0.0      0.0       1.0  \n",
      "4              0.0      9.0       6.0  \n",
      "5              0.0      9.0       6.0  \n",
      "6              1.0      4.0       5.0  \n",
      "7              0.0     14.0      10.0  \n",
      "8              0.0     14.0      10.0  \n",
      "9              1.0      6.0       8.0  \n",
      "10             0.0     18.0      13.0  \n",
      "11             0.0     17.0      12.0  \n",
      "12             1.0      8.0      10.0  \n",
      "13             0.0     23.0      16.0  \n",
      "14             0.0     22.0      16.0  \n",
      "15             2.0     11.0      13.0  \n",
      "16             1.0     17.0       7.0  \n",
      "17             1.0     17.0       6.0  \n",
      "18             2.0     13.0       6.0  \n",
      "19             1.0      NaN      10.0  \n",
      "20             1.0      NaN       NaN  \n",
      "21             2.0      NaN       NaN  \n",
      "22             2.0      NaN      13.0  \n",
      "23             2.0     34.0      13.0  \n",
      "24             NaN     26.0       NaN  \n",
      "25             NaN     44.0      17.0  \n",
      "26             2.0     43.0      17.0  \n",
      "27             NaN     33.0      14.0  \n",
      "28             0.0     18.0       6.0  \n",
      "29             NaN     17.0       6.0  \n",
      "30             1.0      NaN       5.0  \n",
      "31             0.0     27.0       NaN  \n",
      "32             0.0     27.0       9.0  \n",
      "33             1.0     20.0       7.0  \n",
      "34             0.0     35.0      12.0  \n",
      "35             0.0      NaN      12.0  \n",
      "36             NaN     26.0       NaN  \n",
      "37             0.0     45.0      15.0  \n",
      "38             0.0      NaN       NaN  \n",
      "39             2.0     33.0      12.0  \n",
      "40             NaN      0.0       0.4  \n",
      "41             0.0      0.0       1.0  \n",
      "42             0.0      0.0       1.0  \n",
      "43             0.0      NaN       1.0  \n",
      "44             NaN      7.0       5.0  \n",
      "45             0.0      NaN       5.0  \n",
      "46             NaN      3.0       3.0  \n",
      "47             0.0      NaN       6.0  \n",
      "48             0.0      8.0       6.0  \n"
     ]
    }
   ],
   "source": [
    "import pandas as pd\n",
    "import seaborn as sns\n",
    "import matplotlib.pyplot as plt\n",
    "starbucks_df= pd.read_csv(\"starbucks.csv\")\n",
    "print(starbucks_df)"
   ]
  },
  {
   "cell_type": "code",
   "execution_count": 45,
   "id": "cc26ece4",
   "metadata": {},
   "outputs": [
    {
     "name": "stdout",
     "output_type": "stream",
     "text": [
      "         Beverage  Calories   Total_Fat  Trans_Fat   Saturated_Fat   Sodium  \\\n",
      "0   Brewed Coffee       3.0         0.1         NaN            0.0      0.0   \n",
      "1   Brewed Coffee       4.0         0.1         NaN            0.0      0.0   \n",
      "2   Brewed Coffee       5.0         0.1         0.0            0.0      0.0   \n",
      "3   Brewed Coffee       5.0         0.1         0.0            0.0      NaN   \n",
      "4     Caffè Latte      70.0         0.1         0.1            0.0      5.0   \n",
      "5     Caffè Latte     100.0         3.5         2.0            0.1     15.0   \n",
      "6     Caffè Latte      70.0         2.5         0.4            0.0      0.0   \n",
      "7     Caffè Latte     100.0         0.2         NaN            0.0      5.0   \n",
      "8     Caffè Latte     150.0         6.0         3.0            0.2      NaN   \n",
      "9     Caffè Latte     110.0         4.5         0.5            0.0      0.0   \n",
      "10    Caffè Latte     130.0         0.3         NaN            0.0      5.0   \n",
      "11    Caffè Latte     190.0         7.0         3.5            0.2     30.0   \n",
      "12    Caffè Latte     150.0         5.0         0.5            0.0      0.0   \n",
      "13    Caffè Latte       NaN         0.4         0.3            0.0     10.0   \n",
      "14    Caffè Latte     240.0         NaN         4.5            0.3      NaN   \n",
      "\n",
      "     Total_Carbohydrates   Cholesterol   Dietary_Fibre   Sugars   Protein  \n",
      "0                     5.0          0.0             0.0      0.0       0.3  \n",
      "1                    10.0          0.0             0.0      0.0       0.5  \n",
      "2                    10.0          0.0             0.0      0.0       1.0  \n",
      "3                    10.0          0.0             0.0      0.0       1.0  \n",
      "4                     NaN         10.0             0.0      9.0       6.0  \n",
      "5                    85.0          NaN             0.0      9.0       6.0  \n",
      "6                    65.0          NaN             1.0      4.0       5.0  \n",
      "7                   120.0         15.0             0.0     14.0      10.0  \n",
      "8                   135.0         15.0             0.0     14.0      10.0  \n",
      "9                     NaN         10.0             1.0      6.0       8.0  \n",
      "10                  150.0          NaN             0.0     18.0      13.0  \n",
      "11                    NaN         19.0             0.0     17.0      12.0  \n",
      "12                  130.0         13.0             1.0      8.0      10.0  \n",
      "13                  190.0         25.0             0.0     23.0      16.0  \n",
      "14                  220.0         24.0             0.0     22.0      16.0  \n"
     ]
    }
   ],
   "source": [
    "#İlk 15 veriyi listeleyin.\n",
    "ilk_15=starbucks_df.head(15)\n",
    "print(ilk_15)"
   ]
  },
  {
   "cell_type": "code",
   "execution_count": 46,
   "id": "c0261a89",
   "metadata": {},
   "outputs": [
    {
     "name": "stdout",
     "output_type": "stream",
     "text": [
      "toplam satır:49, toplam sütun: 11\n"
     ]
    }
   ],
   "source": [
    "#Kaç tane veri olduğunu bulun. Satır ve sütun sayısını gösterin.\n",
    "veri_sayisi= starbucks_df.shape\n",
    "print(f\"toplam satır:{veri_sayisi[0]}, toplam sütun: {veri_sayisi[1]}\")"
   ]
  },
  {
   "cell_type": "code",
   "execution_count": 47,
   "id": "ea9b4d6b",
   "metadata": {},
   "outputs": [
    {
     "name": "stdout",
     "output_type": "stream",
     "text": [
      "Tahmin sütununda 0 ve 1 sayısı:\n",
      "Calories\n",
      "110.0    4\n",
      "5.0      3\n",
      "100.0    3\n",
      "130.0    3\n",
      "200.0    2\n",
      "70.0     2\n",
      "150.0    2\n",
      "190.0    2\n",
      "250.0    2\n",
      "50.0     2\n",
      "10.0     1\n",
      "210.0    1\n",
      "320.0    1\n",
      "3.0      1\n",
      "15.0     1\n",
      "25.0     1\n",
      "80.0     1\n",
      "60.0     1\n",
      "280.0    1\n",
      "160.0    1\n",
      "290.0    1\n",
      "340.0    1\n",
      "4.0      1\n",
      "230.0    1\n",
      "260.0    1\n",
      "180.0    1\n",
      "170.0    1\n",
      "240.0    1\n",
      "90.0     1\n",
      "Name: count, dtype: int64\n"
     ]
    }
   ],
   "source": [
    "#Tahmin sütununda (hedef sütun) 0 ve 1 sayısını görüntüleyin.\n",
    "tahmin= starbucks_df[\"Calories\"].value_counts()\n",
    "print(\"Tahmin sütununda 0 ve 1 sayısı:\")\n",
    "print(tahmin)"
   ]
  },
  {
   "cell_type": "code",
   "execution_count": 48,
   "id": "9354e81e",
   "metadata": {},
   "outputs": [
    {
     "name": "stdout",
     "output_type": "stream",
     "text": [
      "tüm parametrelerin veri türleri: \n",
      "Beverage                  object\n",
      "Calories                 float64\n",
      " Total_Fat               float64\n",
      "Trans_Fat                float64\n",
      "Saturated_Fat            float64\n",
      " Sodium                  float64\n",
      " Total_Carbohydrates     float64\n",
      "Cholesterol              float64\n",
      " Dietary_Fibre           float64\n",
      " Sugars                  float64\n",
      " Protein                 float64\n",
      "dtype: object\n"
     ]
    }
   ],
   "source": [
    "#Tüm parametrelerin veri türlerini görüntüleyin.\n",
    "veri=starbucks_df.dtypes\n",
    "print(\"tüm parametrelerin veri türleri: \")\n",
    "print(veri)"
   ]
  },
  {
   "cell_type": "code",
   "execution_count": 49,
   "id": "7e06a730",
   "metadata": {},
   "outputs": [
    {
     "name": "stdout",
     "output_type": "stream",
     "text": [
      "Veri seti istatistikleri\n",
      "         Calories   Total_Fat  Trans_Fat   Saturated_Fat     Sodium  \\\n",
      "count   44.000000   39.000000   38.000000      44.000000  42.000000   \n",
      "mean   134.818182    3.225641    1.528947       0.045455   7.023810   \n",
      "std     93.399435    3.080560    1.596772       0.084783   9.243292   \n",
      "min      3.000000    0.000000    0.000000       0.000000   0.000000   \n",
      "25%     67.500000    0.150000    0.225000       0.000000   0.000000   \n",
      "50%    120.000000    2.500000    1.000000       0.000000   5.000000   \n",
      "75%    200.000000    5.000000    2.375000       0.100000  10.000000   \n",
      "max    340.000000   11.000000    6.000000       0.300000  35.000000   \n",
      "\n",
      "        Total_Carbohydrates   Cholesterol   Dietary_Fibre     Sugars  \\\n",
      "count              41.000000    39.000000       41.000000  39.000000   \n",
      "mean               94.512195    20.461538        0.560976  16.615385   \n",
      "std                59.474836    15.542550        0.776169  13.289520   \n",
      "min                 5.000000     0.000000        0.000000   0.000000   \n",
      "25%                60.000000     8.500000        0.000000   6.500000   \n",
      "50%                85.000000    19.000000        0.000000  17.000000   \n",
      "75%               140.000000    30.000000        1.000000  26.000000   \n",
      "max               220.000000    53.000000        2.000000  45.000000   \n",
      "\n",
      "         Protein  \n",
      "count  43.000000  \n",
      "mean    7.981395  \n",
      "std     5.045708  \n",
      "min     0.300000  \n",
      "25%     5.000000  \n",
      "50%     7.000000  \n",
      "75%    12.000000  \n",
      "max    17.000000  \n"
     ]
    }
   ],
   "source": [
    "#Veri seti hakkında istatistiksel bilgileri gösterin.\n",
    "istatistik=starbucks_df.describe()\n",
    "print(\"Veri seti istatistikleri\")\n",
    "print(istatistik)"
   ]
  },
  {
   "cell_type": "code",
   "execution_count": 50,
   "id": "eedd1e91",
   "metadata": {},
   "outputs": [
    {
     "name": "stdout",
     "output_type": "stream",
     "text": [
      "Veri setindeki eksik veriler\n",
      "Beverage                  0\n",
      "Calories                  5\n",
      " Total_Fat               10\n",
      "Trans_Fat                11\n",
      "Saturated_Fat             5\n",
      " Sodium                   7\n",
      " Total_Carbohydrates      8\n",
      "Cholesterol              10\n",
      " Dietary_Fibre            8\n",
      " Sugars                  10\n",
      " Protein                  6\n",
      "dtype: int64\n"
     ]
    }
   ],
   "source": [
    "#Verisetinde eksik verileri gösterin.\n",
    "eksik_veriler=starbucks_df.isnull().sum()\n",
    "print(\"Veri setindeki eksik veriler\")\n",
    "print(eksik_veriler)"
   ]
  },
  {
   "cell_type": "code",
   "execution_count": 51,
   "id": "49f6245c",
   "metadata": {},
   "outputs": [
    {
     "name": "stdout",
     "output_type": "stream",
     "text": [
      "Kolonların ortalaması: \n",
      "Calories                 134.818182\n",
      " Total_Fat                 3.225641\n",
      "Trans_Fat                  1.528947\n",
      "Saturated_Fat              0.045455\n",
      " Sodium                    7.023810\n",
      " Total_Carbohydrates      94.512195\n",
      "Cholesterol               20.461538\n",
      " Dietary_Fibre             0.560976\n",
      " Sugars                   16.615385\n",
      " Protein                   7.981395\n",
      "dtype: float64\n"
     ]
    }
   ],
   "source": [
    "#Verisetindeki sayısal verilerden oluşan herhangi bir kolonun ortalamasını bulun\n",
    "numeric_df= starbucks_df.select_dtypes(include=[\"float64\",\"int64\"])\n",
    "kolon_ort= numeric_df.mean()\n",
    "print(\"Kolonların ortalaması: \")\n",
    "print(kolon_ort)"
   ]
  },
  {
   "cell_type": "code",
   "execution_count": 57,
   "id": "0ae9cfae",
   "metadata": {},
   "outputs": [
    {
     "name": "stdout",
     "output_type": "stream",
     "text": [
      "kolonlardaki en yüksek değerler\n",
      "Calories                 340.0\n",
      " Total_Fat                11.0\n",
      "Trans_Fat                  6.0\n",
      "Saturated_Fat              0.3\n",
      " Sodium                   35.0\n",
      " Total_Carbohydrates     220.0\n",
      "Cholesterol               53.0\n",
      " Dietary_Fibre             2.0\n",
      " Sugars                   45.0\n",
      " Protein                  17.0\n",
      "dtype: float64\n"
     ]
    }
   ],
   "source": [
    "#Verisetindeki sayısal verilerden oluşan herhangi bir kolonda en yüksek değeri bulun\n",
    "enyuksek=numeric_df.max()\n",
    "print(\"kolonlardaki en yüksek değerler\")\n",
    "print(enyuksek)"
   ]
  },
  {
   "cell_type": "code",
   "execution_count": 61,
   "id": "75790d12",
   "metadata": {},
   "outputs": [
    {
     "name": "stdout",
     "output_type": "stream",
     "text": [
      "Calories\n",
      "3.0       0.300000\n",
      "4.0       0.500000\n",
      "5.0       0.800000\n",
      "10.0      1.000000\n",
      "15.0      1.000000\n",
      "25.0      1.000000\n",
      "50.0      4.000000\n",
      "60.0      6.000000\n",
      "70.0      5.500000\n",
      "80.0      5.000000\n",
      "90.0      6.000000\n",
      "100.0     7.333333\n",
      "110.0     6.500000\n",
      "130.0     8.333333\n",
      "150.0    10.000000\n",
      "160.0     7.000000\n",
      "170.0    10.000000\n",
      "180.0          NaN\n",
      "190.0    12.500000\n",
      "200.0    10.500000\n",
      "210.0          NaN\n",
      "230.0          NaN\n",
      "240.0    16.000000\n",
      "250.0    13.500000\n",
      "260.0    13.000000\n",
      "280.0    17.000000\n",
      "290.0    14.000000\n",
      "320.0          NaN\n",
      "340.0    17.000000\n",
      "Name:  Protein, dtype: float64\n"
     ]
    }
   ],
   "source": [
    "#Kategorik verilerden oluşan kolona göre gruplayarak ortalama değeri bulun.\n",
    "if \"Calories\" in starbucks_df.columns:\n",
    "    kategorik_ort= starbucks_df.groupby(\"Calories\")[\" Protein\"].mean()\n",
    "    print(kategorik_ort)\n",
    "else:\n",
    "    print(\"'Calories' veya ' Protein'\")"
   ]
  },
  {
   "cell_type": "code",
   "execution_count": 63,
   "id": "644418b9",
   "metadata": {},
   "outputs": [
    {
     "name": "stdout",
     "output_type": "stream",
     "text": [
      "kategorik alandaki veri tipi sayısı:\n",
      "29\n"
     ]
    }
   ],
   "source": [
    "#Kategorik verilerden oluşan kolonda kaç farklı veri olduğunu bulun.\n",
    "if \"Calories\" in starbucks_df.columns:\n",
    "    farkli_sayi=heart_df[\"Calories\"].nunique()\n",
    "    print(\"kategorik alandaki veri tipi sayısı:\")\n",
    "    print(farkli_sayi)"
   ]
  },
  {
   "cell_type": "code",
   "execution_count": 64,
   "id": "c27ec73a",
   "metadata": {},
   "outputs": [
    {
     "data": {
      "image/png": "[encoded data removed]",
      "text/plain": [
       "<Figure size 640x480 with 2 Axes>"
      ]
     },
     "metadata": {},
     "output_type": "display_data"
    }
   ],
   "source": [
    "#Korelasyon matrisini çizin\n",
    "korelasyon_matrisi=numeric_df.corr()\n",
    "sns.heatmap(korelasyon_matrisi, annot=True,cmap=\"coolwarm\", linewidth=.5)\n",
    "plt.title(\"korelasyon matrisi\")\n",
    "plt.show()"
   ]
  },
  {
   "cell_type": "code",
   "execution_count": null,
   "id": "9f220c59",
   "metadata": {},
   "outputs": [],
   "source": []
  }
 ],
 "metadata": {
  "kernelspec": {
   "display_name": "Python 3 (ipykernel)",
   "language": "python",
   "name": "python3"
  },
  "language_info": {
   "codemirror_mode": {
    "name": "ipython",
    "version": 3
   },
   "file_extension": ".py",
   "mimetype": "text/x-python",
   "name": "python",
   "nbconvert_exporter": "python",
   "pygments_lexer": "ipython3",
   "version": "3.11.5"
  }
 },
 "nbformat": 4,
 "nbformat_minor": 5
}
