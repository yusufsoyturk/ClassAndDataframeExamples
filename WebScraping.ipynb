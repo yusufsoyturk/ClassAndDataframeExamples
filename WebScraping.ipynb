{
 "cells": [
  {
   "cell_type": "code",
   "execution_count": 4,
   "id": "a91e17dd",
   "metadata": {},
   "outputs": [],
   "source": [
    "#web scraping (veri çekme) \n",
    "from bs4 import BeautifulSoup \n",
    "import requests\n",
    "import pandas as pd\n"
   ]
  },
  {
   "cell_type": "code",
   "execution_count": 5,
   "id": "71be6440",
   "metadata": {},
   "outputs": [],
   "source": [
    "response = requests.get(\"https://webscraper.io/test-sites/tables\").text"
   ]
  },
  {
   "cell_type": "code",
   "execution_count": 7,
   "id": "e3073010",
   "metadata": {},
   "outputs": [],
   "source": [
    "#html tagına göre işlem\n",
    "soup = BeautifulSoup(response,'html.parser')"
   ]
  },
  {
   "cell_type": "code",
   "execution_count": 8,
   "id": "f8634e39",
   "metadata": {},
   "outputs": [],
   "source": [
    "data = [] #liste oluşturma\n",
    "for row in soup.find_all('tr'):\n",
    "    row_data = []\n",
    "    for cell in row.find_all('td'):\n",
    "        row_data.append(cell.text)\n",
    "    data.append(row_data)"
   ]
  },
  {
   "cell_type": "code",
   "execution_count": 9,
   "id": "e3c6727e",
   "metadata": {},
   "outputs": [
    {
     "data": {
      "text/plain": [
       "[[],\n",
       " ['1', 'Mark', 'Otto', '@mdo'],\n",
       " ['2', 'Jacob', 'Thornton', '@fat'],\n",
       " ['3', 'Larry', 'the Bird', '@twitter'],\n",
       " [],\n",
       " ['4', 'Harry', 'Potter', '@hp'],\n",
       " ['5', 'John', 'Snow', '@dunno'],\n",
       " ['6', 'Tim', 'Bean', '@timbean']]"
      ]
     },
     "execution_count": 9,
     "metadata": {},
     "output_type": "execute_result"
    }
   ],
   "source": [
    "data"
   ]
  },
  {
   "cell_type": "code",
   "execution_count": 14,
   "id": "1d71cc88",
   "metadata": {},
   "outputs": [],
   "source": [
    "df = pd.DataFrame(data, columns = ['id','firstname', 'lastname', 'username']).dropna(subset = 'id')"
   ]
  },
  {
   "cell_type": "code",
   "execution_count": 15,
   "id": "f370f38e",
   "metadata": {},
   "outputs": [
    {
     "data": {
      "text/html": [
       "<div>\n",
       "<style scoped>\n",
       "    .dataframe tbody tr th:only-of-type {\n",
       "        vertical-align: middle;\n",
       "    }\n",
       "\n",
       "    .dataframe tbody tr th {\n",
       "        vertical-align: top;\n",
       "    }\n",
       "\n",
       "    .dataframe thead th {\n",
       "        text-align: right;\n",
       "    }\n",
       "</style>\n",
       "<table border=\"1\" class=\"dataframe\">\n",
       "  <thead>\n",
       "    <tr style=\"text-align: right;\">\n",
       "      <th></th>\n",
       "      <th>id</th>\n",
       "      <th>firstname</th>\n",
       "      <th>lastname</th>\n",
       "      <th>username</th>\n",
       "    </tr>\n",
       "  </thead>\n",
       "  <tbody>\n",
       "    <tr>\n",
       "      <th>1</th>\n",
       "      <td>1</td>\n",
       "      <td>Mark</td>\n",
       "      <td>Otto</td>\n",
       "      <td>@mdo</td>\n",
       "    </tr>\n",
       "    <tr>\n",
       "      <th>2</th>\n",
       "      <td>2</td>\n",
       "      <td>Jacob</td>\n",
       "      <td>Thornton</td>\n",
       "      <td>@fat</td>\n",
       "    </tr>\n",
       "    <tr>\n",
       "      <th>3</th>\n",
       "      <td>3</td>\n",
       "      <td>Larry</td>\n",
       "      <td>the Bird</td>\n",
       "      <td>@twitter</td>\n",
       "    </tr>\n",
       "    <tr>\n",
       "      <th>5</th>\n",
       "      <td>4</td>\n",
       "      <td>Harry</td>\n",
       "      <td>Potter</td>\n",
       "      <td>@hp</td>\n",
       "    </tr>\n",
       "    <tr>\n",
       "      <th>6</th>\n",
       "      <td>5</td>\n",
       "      <td>John</td>\n",
       "      <td>Snow</td>\n",
       "      <td>@dunno</td>\n",
       "    </tr>\n",
       "    <tr>\n",
       "      <th>7</th>\n",
       "      <td>6</td>\n",
       "      <td>Tim</td>\n",
       "      <td>Bean</td>\n",
       "      <td>@timbean</td>\n",
       "    </tr>\n",
       "  </tbody>\n",
       "</table>\n",
       "</div>"
      ],
      "text/plain": [
       "  id firstname  lastname  username\n",
       "1  1      Mark      Otto      @mdo\n",
       "2  2     Jacob  Thornton      @fat\n",
       "3  3     Larry  the Bird  @twitter\n",
       "5  4     Harry    Potter       @hp\n",
       "6  5      John      Snow    @dunno\n",
       "7  6       Tim      Bean  @timbean"
      ]
     },
     "execution_count": 15,
     "metadata": {},
     "output_type": "execute_result"
    }
   ],
   "source": [
    "df"
   ]
  },
  {
   "cell_type": "code",
   "execution_count": 56,
   "id": "01c280d3",
   "metadata": {},
   "outputs": [],
   "source": [
    "#data çekme\n",
    "response_iki = requests.get('https://webscraper.io/test-sites/e-commerce/more').text"
   ]
  },
  {
   "cell_type": "code",
   "execution_count": 57,
   "id": "db388f7d",
   "metadata": {},
   "outputs": [],
   "source": [
    "soup_iki = BeautifulSoup(response_iki, 'html.parser')"
   ]
  },
  {
   "cell_type": "code",
   "execution_count": 58,
   "id": "057592f5",
   "metadata": {},
   "outputs": [],
   "source": [
    "data_list = []\n",
    "for row in soup_iki.find_all('div', {'class':'col-md-4 col-xl-4 col-lg-4'}):\n",
    "    product_price = row.find('h4', {'class':'price float-end card-title pull-right'}).text\n",
    "    product_title = row.find('a', {'class': 'title'}).text\n",
    "    product_description = row.find('p', {'class':'description card-text'}).text\n",
    "    review_count = str(row.find('div', {'class':'ratings'}).find('p').text.split(\" \")[0])\n",
    "    data_list.append({\n",
    "        'product_title':product_title,\n",
    "        'product_price':product_price,\n",
    "        'product_decription':product_description,\n",
    "        'review_count': review_count\n",
    "    })"
   ]
  },
  {
   "cell_type": "code",
   "execution_count": 59,
   "id": "752c6761",
   "metadata": {},
   "outputs": [
    {
     "data": {
      "text/plain": [
       "[{'product_title': 'Asus VivoBook...',\n",
       "  'product_price': '$468.56',\n",
       "  'product_decription': 'Asus VivoBook 15 X540UA-DM260 Chocolate Black, 15.6\" FHD, Core i3-6006U, 4GB, 256GB SSD, Endless OS, En kbd',\n",
       "  'review_count': '1'},\n",
       " {'product_title': 'Apple MacBook...',\n",
       "  'product_price': '$1260.13',\n",
       "  'product_decription': 'Apple MacBook Air 13\", i5 1.8GHz, 8GB, 256GB SSD, Intel HD 6000, ENG',\n",
       "  'review_count': '8'},\n",
       " {'product_title': 'Asus AsusPro A...',\n",
       "  'product_price': '$1139.54',\n",
       "  'product_decription': 'Asus AsusPro Advanced BU401LA-FA271G Dark Grey, 14\", Core i5-4210U, 4GB, 128GB SSD, Win7 Pro 64bit, ENG',\n",
       "  'review_count': '7'}]"
      ]
     },
     "execution_count": 59,
     "metadata": {},
     "output_type": "execute_result"
    }
   ],
   "source": [
    "data_list"
   ]
  },
  {
   "cell_type": "code",
   "execution_count": 60,
   "id": "7f6c38d4",
   "metadata": {},
   "outputs": [],
   "source": [
    "df2 = pd.DataFrame(data_list)"
   ]
  },
  {
   "cell_type": "code",
   "execution_count": 62,
   "id": "3523c8b1",
   "metadata": {},
   "outputs": [
    {
     "data": {
      "text/html": [
       "<div>\n",
       "<style scoped>\n",
       "    .dataframe tbody tr th:only-of-type {\n",
       "        vertical-align: middle;\n",
       "    }\n",
       "\n",
       "    .dataframe tbody tr th {\n",
       "        vertical-align: top;\n",
       "    }\n",
       "\n",
       "    .dataframe thead th {\n",
       "        text-align: right;\n",
       "    }\n",
       "</style>\n",
       "<table border=\"1\" class=\"dataframe\">\n",
       "  <thead>\n",
       "    <tr style=\"text-align: right;\">\n",
       "      <th></th>\n",
       "      <th>product_title</th>\n",
       "      <th>product_price</th>\n",
       "      <th>product_decription</th>\n",
       "      <th>review_count</th>\n",
       "    </tr>\n",
       "  </thead>\n",
       "  <tbody>\n",
       "    <tr>\n",
       "      <th>0</th>\n",
       "      <td>Asus VivoBook...</td>\n",
       "      <td>$468.56</td>\n",
       "      <td>Asus VivoBook 15 X540UA-DM260 Chocolate Black,...</td>\n",
       "      <td>1</td>\n",
       "    </tr>\n",
       "    <tr>\n",
       "      <th>1</th>\n",
       "      <td>Apple MacBook...</td>\n",
       "      <td>$1260.13</td>\n",
       "      <td>Apple MacBook Air 13\", i5 1.8GHz, 8GB, 256GB S...</td>\n",
       "      <td>8</td>\n",
       "    </tr>\n",
       "    <tr>\n",
       "      <th>2</th>\n",
       "      <td>Asus AsusPro A...</td>\n",
       "      <td>$1139.54</td>\n",
       "      <td>Asus AsusPro Advanced BU401LA-FA271G Dark Grey...</td>\n",
       "      <td>7</td>\n",
       "    </tr>\n",
       "  </tbody>\n",
       "</table>\n",
       "</div>"
      ],
      "text/plain": [
       "       product_title product_price  \\\n",
       "0   Asus VivoBook...       $468.56   \n",
       "1   Apple MacBook...      $1260.13   \n",
       "2  Asus AsusPro A...      $1139.54   \n",
       "\n",
       "                                  product_decription review_count  \n",
       "0  Asus VivoBook 15 X540UA-DM260 Chocolate Black,...            1  \n",
       "1  Apple MacBook Air 13\", i5 1.8GHz, 8GB, 256GB S...            8  \n",
       "2  Asus AsusPro Advanced BU401LA-FA271G Dark Grey...            7  "
      ]
     },
     "execution_count": 62,
     "metadata": {},
     "output_type": "execute_result"
    }
   ],
   "source": [
    "df2"
   ]
  },
  {
   "cell_type": "code",
   "execution_count": 63,
   "id": "973256d0",
   "metadata": {},
   "outputs": [],
   "source": [
    "#medipol üni etkinlik sayfası etkinlik çekme\n",
    "response_uc = requests.get('https://www.medipol.edu.tr/etkinlikler').text"
   ]
  },
  {
   "cell_type": "code",
   "execution_count": 64,
   "id": "e0214240",
   "metadata": {},
   "outputs": [],
   "source": [
    "soup_uc = BeautifulSoup(response_uc, 'html.parser')"
   ]
  },
  {
   "cell_type": "code",
   "execution_count": 65,
   "id": "ff8bd402",
   "metadata": {},
   "outputs": [],
   "source": [
    "data_list2 = []\n",
    "for row in soup_uc.find_all('div',{'class': 'col-lg-4 col-md-6 col-sm-6 list-card'}):\n",
    "    event = row.find('div', {'class':'event-item'}).find('h2').text\n",
    "    date = row.find('span', {'class':'date'}).text\n",
    "    data_list2.append({\n",
    "        'Etkinlik adı': event,\n",
    "        'Tarih' : date\n",
    "    })"
   ]
  },
  {
   "cell_type": "code",
   "execution_count": 66,
   "id": "5e553b71",
   "metadata": {},
   "outputs": [],
   "source": [
    "df3=pd.DataFrame(data_list2)"
   ]
  },
  {
   "cell_type": "code",
   "execution_count": 67,
   "id": "2c1fd9fa",
   "metadata": {},
   "outputs": [
    {
     "data": {
      "text/html": [
       "<div>\n",
       "<style scoped>\n",
       "    .dataframe tbody tr th:only-of-type {\n",
       "        vertical-align: middle;\n",
       "    }\n",
       "\n",
       "    .dataframe tbody tr th {\n",
       "        vertical-align: top;\n",
       "    }\n",
       "\n",
       "    .dataframe thead th {\n",
       "        text-align: right;\n",
       "    }\n",
       "</style>\n",
       "<table border=\"1\" class=\"dataframe\">\n",
       "  <thead>\n",
       "    <tr style=\"text-align: right;\">\n",
       "      <th></th>\n",
       "      <th>Etkinlik adı</th>\n",
       "      <th>Tarih</th>\n",
       "    </tr>\n",
       "  </thead>\n",
       "  <tbody>\n",
       "    <tr>\n",
       "      <th>0</th>\n",
       "      <td>XXXI. Deney Hayvanları Kullanım Sertifikası Eğ...</td>\n",
       "      <td>04.07.2024</td>\n",
       "    </tr>\n",
       "    <tr>\n",
       "      <th>1</th>\n",
       "      <td>Hayalimdeki İstanbul</td>\n",
       "      <td>22.05.2024</td>\n",
       "    </tr>\n",
       "    <tr>\n",
       "      <th>2</th>\n",
       "      <td>14 Mayıs Eczacılık Fakültesi Önlük Giyme Töreni</td>\n",
       "      <td>14.05.2024</td>\n",
       "    </tr>\n",
       "    <tr>\n",
       "      <th>3</th>\n",
       "      <td>4. ALGI ve FARKINDALIK ULUSAL ECZACILIK KONGRESİ</td>\n",
       "      <td>10.05.2024</td>\n",
       "    </tr>\n",
       "    <tr>\n",
       "      <th>4</th>\n",
       "      <td>Farmasötik Biyoteknolojide Güncel Konular</td>\n",
       "      <td>06.05.2024</td>\n",
       "    </tr>\n",
       "    <tr>\n",
       "      <th>5</th>\n",
       "      <td>WIE Event 24'</td>\n",
       "      <td>03.05.2024</td>\n",
       "    </tr>\n",
       "    <tr>\n",
       "      <th>6</th>\n",
       "      <td>Seri Katilin Analizi</td>\n",
       "      <td>02.05.2024</td>\n",
       "    </tr>\n",
       "    <tr>\n",
       "      <th>7</th>\n",
       "      <td>XXXII. Deney Hayvanları Kullanım Sertifikası E...</td>\n",
       "      <td>01.05.2024</td>\n",
       "    </tr>\n",
       "    <tr>\n",
       "      <th>8</th>\n",
       "      <td>En İyi Reklam Filmi Aranıyor</td>\n",
       "      <td>30.04.2024</td>\n",
       "    </tr>\n",
       "    <tr>\n",
       "      <th>9</th>\n",
       "      <td>Reklamcılık Zirvesi</td>\n",
       "      <td>30.04.2024</td>\n",
       "    </tr>\n",
       "    <tr>\n",
       "      <th>10</th>\n",
       "      <td>Fizyoterapide Kariyer Günü Etkinliği</td>\n",
       "      <td>29.04.2024</td>\n",
       "    </tr>\n",
       "    <tr>\n",
       "      <th>11</th>\n",
       "      <td>2.Medkon Uluslararası Tıp Öğrenci Kongresi</td>\n",
       "      <td>27.04.2024</td>\n",
       "    </tr>\n",
       "  </tbody>\n",
       "</table>\n",
       "</div>"
      ],
      "text/plain": [
       "                                         Etkinlik adı       Tarih\n",
       "0   XXXI. Deney Hayvanları Kullanım Sertifikası Eğ...  04.07.2024\n",
       "1                                Hayalimdeki İstanbul  22.05.2024\n",
       "2     14 Mayıs Eczacılık Fakültesi Önlük Giyme Töreni  14.05.2024\n",
       "3    4. ALGI ve FARKINDALIK ULUSAL ECZACILIK KONGRESİ  10.05.2024\n",
       "4           Farmasötik Biyoteknolojide Güncel Konular  06.05.2024\n",
       "5                                       WIE Event 24'  03.05.2024\n",
       "6                                Seri Katilin Analizi  02.05.2024\n",
       "7   XXXII. Deney Hayvanları Kullanım Sertifikası E...  01.05.2024\n",
       "8                        En İyi Reklam Filmi Aranıyor  30.04.2024\n",
       "9                                 Reklamcılık Zirvesi  30.04.2024\n",
       "10               Fizyoterapide Kariyer Günü Etkinliği  29.04.2024\n",
       "11         2.Medkon Uluslararası Tıp Öğrenci Kongresi  27.04.2024"
      ]
     },
     "execution_count": 67,
     "metadata": {},
     "output_type": "execute_result"
    }
   ],
   "source": [
    "df3"
   ]
  },
  {
   "cell_type": "code",
   "execution_count": null,
   "id": "d66dd500",
   "metadata": {},
   "outputs": [],
   "source": []
  }
 ],
 "metadata": {
  "kernelspec": {
   "display_name": "Python 3 (ipykernel)",
   "language": "python",
   "name": "python3"
  },
  "language_info": {
   "codemirror_mode": {
    "name": "ipython",
    "version": 3
   },
   "file_extension": ".py",
   "mimetype": "text/x-python",
   "name": "python",
   "nbconvert_exporter": "python",
   "pygments_lexer": "ipython3",
   "version": "3.11.5"
  }
 },
 "nbformat": 4,
 "nbformat_minor": 5
}
